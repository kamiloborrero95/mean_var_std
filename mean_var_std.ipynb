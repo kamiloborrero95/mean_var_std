{
  "nbformat": 4,
  "nbformat_minor": 0,
  "metadata": {
    "colab": {
      "provenance": [],
      "authorship_tag": "ABX9TyNPIdbCxXGFMZJ3FmP9HAiZ",
      "include_colab_link": true
    },
    "kernelspec": {
      "name": "python3",
      "display_name": "Python 3"
    },
    "language_info": {
      "name": "python"
    }
  },
  "cells": [
    {
      "cell_type": "markdown",
      "metadata": {
        "id": "view-in-github",
        "colab_type": "text"
      },
      "source": [
        "<a href=\"https://colab.research.google.com/github/kamiloborrero95/mean_var_std/blob/main/mean_var_std.ipynb\" target=\"_parent\"><img src=\"https://colab.research.google.com/assets/colab-badge.svg\" alt=\"Open In Colab\"/></a>"
      ]
    },
    {
      "cell_type": "markdown",
      "source": [
        "Create a function named calculate() in mean_var_std.py that uses Numpy to output the mean, variance, standard deviation, max, min, and sum of the rows, columns, and elements in a 3 x 3 matrix."
      ],
      "metadata": {
        "id": "jm2_uxneVusB"
      }
    },
    {
      "cell_type": "code",
      "source": [
        "import numpy as np\n",
        "import pandas as pd"
      ],
      "metadata": {
        "id": "KA-pjSSVWDhR"
      },
      "execution_count": 1,
      "outputs": []
    },
    {
      "cell_type": "code",
      "execution_count": 10,
      "metadata": {
        "id": "VD6oVwEyTP-W"
      },
      "outputs": [],
      "source": [
        "def calculate(lista):\n",
        "  matrix = np.array(lista).reshape(3,3)\n",
        "\n",
        "  try:\n",
        "    # producir media\n",
        "    mean_ax1 = matrix.mean(axis=0).tolist()\n",
        "    mean_ax2 = matrix.mean(axis=1).tolist()\n",
        "    mean = matrix.mean()\n",
        "    # varianza\n",
        "    variance_ax1 = matrix.var(axis=0).tolist()\n",
        "    variance_ax2 = matrix.var(axis=1).tolist()\n",
        "    variance = matrix.var()\n",
        "    # desviacion estandar\n",
        "    std_ax1 = matrix.std(axis=0).tolist()\n",
        "    std_ax2 = matrix.std(axis=1).tolist()\n",
        "    std = matrix.std()\n",
        "    # maximo\n",
        "    maximo_ax1 = matrix.max(axis=0).tolist()\n",
        "    maximo_ax2 = matrix.max(axis=1).tolist()\n",
        "    maximo = matrix.max()\n",
        "    # minimo\n",
        "    minimo_ax1 = matrix.min(axis=0).tolist()\n",
        "    minimo_ax2 = matrix.min(axis=1).tolist()\n",
        "    minimo = matrix.min()\n",
        "    # suma\n",
        "    suma_ax1 = matrix.sum(axis=0).tolist()\n",
        "    suma_ax2 = matrix.sum(axis=1).tolist()\n",
        "    suma = matrix.sum()\n",
        "\n",
        "    calculation = {\n",
        "      'mean': [mean_ax1, mean_ax2, mean],\n",
        "      'variance': [variance_ax1, variance_ax2, variance],\n",
        "      'standard deviation': [std_ax1, std_ax2, std],\n",
        "      'max': [maximo_ax1, maximo_ax2, maximo],\n",
        "      'min': [minimo_ax1, minimo_ax2, minimo],\n",
        "      'sum': [suma_ax1, suma_ax2, suma]\n",
        "    }\n",
        "\n",
        "    return calculation\n",
        "\n",
        "  except ValueError:\n",
        "    if matrix.shape != (3,3):\n",
        "      print(\"La lista debe contener nueve números\")"
      ]
    },
    {
      "cell_type": "code",
      "source": [
        "calculate([0,1,2,3,4,5,6,7,8])"
      ],
      "metadata": {
        "colab": {
          "base_uri": "https://localhost:8080/"
        },
        "id": "2eEdEe3faQft",
        "outputId": "bb5e1169-f8c9-4ea6-ba37-c46a8c341fee"
      },
      "execution_count": 11,
      "outputs": [
        {
          "output_type": "execute_result",
          "data": {
            "text/plain": [
              "{'mean': [[3.0, 4.0, 5.0], [1.0, 4.0, 7.0], 4.0],\n",
              " 'variance': [[6.0, 6.0, 6.0],\n",
              "  [0.6666666666666666, 0.6666666666666666, 0.6666666666666666],\n",
              "  6.666666666666667],\n",
              " 'standard deviation': [[2.449489742783178,\n",
              "   2.449489742783178,\n",
              "   2.449489742783178],\n",
              "  [0.816496580927726, 0.816496580927726, 0.816496580927726],\n",
              "  2.581988897471611],\n",
              " 'max': [[6, 7, 8], [2, 5, 8], 8],\n",
              " 'min': [[0, 1, 2], [0, 3, 6], 0],\n",
              " 'sum': [[9, 12, 15], [3, 12, 21], 36]}"
            ]
          },
          "metadata": {},
          "execution_count": 11
        }
      ]
    }
  ]
}